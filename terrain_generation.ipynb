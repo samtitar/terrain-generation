{
 "nbformat": 4,
 "nbformat_minor": 2,
 "metadata": {
  "language_info": {
   "name": "python",
   "codemirror_mode": {
    "name": "ipython",
    "version": 3
   },
   "version": "3.6.9-final"
  },
  "orig_nbformat": 2,
  "file_extension": ".py",
  "mimetype": "text/x-python",
  "name": "python",
  "npconvert_exporter": "python",
  "pygments_lexer": "ipython3",
  "version": 3,
  "kernelspec": {
   "name": "terrain-generation",
   "display_name": "terrain-generation"
  }
 },
 "cells": [
  {
   "cell_type": "markdown",
   "metadata": {},
   "source": [
    "# Generating terrain using a Deep Convolutional GAN"
   ]
  },
  {
   "cell_type": "code",
   "execution_count": 1,
   "metadata": {},
   "outputs": [],
   "source": [
    "from __future__ import print_function\n",
    "\n",
    "import argparse\n",
    "import os\n",
    "import random\n",
    "\n",
    "import torch\n",
    "import torch.nn as nn\n",
    "import torch.nn.parallel\n",
    "import torch.backends.cudnn as cudnn\n",
    "import torch.optim as optim\n",
    "import torch.utils.data\n",
    "\n",
    "import torchvision.datasets as dset\n",
    "import torchvision.transforms as transforms\n",
    "import torchvision.utils as vutils\n",
    "\n",
    "import numpy as np\n",
    "import matplotlib.pyplot as plt\n",
    "import matplotlib.animation as animation\n",
    "\n",
    "import requests\n",
    "\n",
    "from IPython.display import HTML"
   ]
  },
  {
   "cell_type": "markdown",
   "metadata": {},
   "source": [
    "Set random function seeds for reproducability."
   ]
  },
  {
   "cell_type": "code",
   "execution_count": 2,
   "metadata": {},
   "outputs": [
    {
     "name": "stdout",
     "output_type": "stream",
     "text": "999\n"
    }
   ],
   "source": [
    "seed = 999\n",
    "\n",
    "#manualSeed = random.randint(1, 10000)\n",
    "random.seed(seed)\n",
    "torch.manual_seed(seed)\n",
    "\n",
    "print(seed)"
   ]
  },
  {
   "cell_type": "markdown",
   "metadata": {},
   "source": [
    "Define data directory and the number of dataloader workers."
   ]
  },
  {
   "cell_type": "code",
   "execution_count": 3,
   "metadata": {},
   "outputs": [],
   "source": [
    "data_directory = \"data/Terrain/processed\"\n",
    "n_workers = 2"
   ]
  },
  {
   "cell_type": "markdown",
   "metadata": {},
   "source": [
    "## Settings and hyperparameters"
   ]
  },
  {
   "cell_type": "code",
   "execution_count": 4,
   "metadata": {},
   "outputs": [],
   "source": [
    "batch_size = 8\n",
    "image_size = 64\n",
    "\n",
    "n_channels = 1\n",
    "n_latent   = 100\n",
    "\n",
    "n_gen_features = 64\n",
    "n_dis_features = 64\n",
    "\n",
    "n_epochs    = 100\n",
    "learning_r  = 0.0002\n",
    "beta1       = 0.5\n",
    "\n",
    "n_gpus = 2"
   ]
  },
  {
   "cell_type": "markdown",
   "metadata": {},
   "source": [
    "## Generator"
   ]
  },
  {
   "cell_type": "code",
   "execution_count": 5,
   "metadata": {},
   "outputs": [],
   "source": [
    "class Generator(nn.Module):\n",
    "    def __init__(self, n_gpus):\n",
    "        super(Generator, self).__init__()\n",
    "        self.n_gpus = n_gpus\n",
    "        self.main = nn.Sequential(\n",
    "            nn.ConvTranspose2d(n_latent, n_gen_features * 8, 4, 1, 0, bias=False),\n",
    "            nn.BatchNorm2d(n_gen_features * 8),\n",
    "            nn.ReLU(True),\n",
    "\n",
    "            nn.ConvTranspose2d(n_gen_features * 8, n_gen_features * 4, 4, 2, 1, bias=False),\n",
    "            nn.BatchNorm2d(n_gen_features * 4),\n",
    "            nn.ReLU(True),\n",
    "\n",
    "            nn.ConvTranspose2d(n_gen_features * 4, n_gen_features * 2, 4, 2, 1, bias=False),\n",
    "            nn.BatchNorm2d(n_gen_features * 2),\n",
    "            nn.ReLU(True),\n",
    "\n",
    "            nn.ConvTranspose2d(n_gen_features * 2, n_gen_features, 4, 2, 1, bias=False),\n",
    "            nn.BatchNorm2d(n_gen_features),\n",
    "            nn.ReLU(True),\n",
    "\n",
    "            nn.ConvTranspose2d(n_gen_features, n_channels, 4, 2, 1, bias=False),\n",
    "            nn.Tanh()\n",
    "        )\n",
    "\n",
    "    def forward(self, input):\n",
    "        return self.main(input)\n"
   ]
  },
  {
   "cell_type": "markdown",
   "metadata": {},
   "source": [
    "## Discriminator"
   ]
  },
  {
   "cell_type": "code",
   "execution_count": 6,
   "metadata": {},
   "outputs": [],
   "source": [
    "class Discriminator(nn.Module):\n",
    "    def __init__(self, n_gpus):\n",
    "        super(Discriminator, self).__init__()\n",
    "        self.n_gpus = n_gpus\n",
    "        self.main = nn.Sequential(\n",
    "            nn.Conv2d(n_channels, n_dis_features, 4, 2, 1, bias=False),\n",
    "            nn.LeakyReLU(0.2, inplace=True),\n",
    "\n",
    "            nn.Conv2d(n_dis_features, n_dis_features * 2, 4, 2, 1, bias=False),\n",
    "            nn.BatchNorm2d(n_dis_features * 2),\n",
    "            nn.LeakyReLU(0.2, inplace=True),\n",
    "\n",
    "            nn.Conv2d(n_dis_features * 2, n_dis_features * 4, 4, 2, 1, bias=False),\n",
    "            nn.BatchNorm2d(n_dis_features * 4),\n",
    "            nn.LeakyReLU(0.2, inplace=True),\n",
    "\n",
    "            nn.Conv2d(n_dis_features * 4, n_dis_features * 8, 4, 2, 1, bias=False),\n",
    "            nn.BatchNorm2d(n_dis_features * 8),\n",
    "            nn.LeakyReLU(0.2, inplace=True),\n",
    "\n",
    "            nn.Conv2d(n_dis_features * 8, 1, 4, 1, 0, bias=False),\n",
    "            nn.Sigmoid()\n",
    "        )\n",
    "\n",
    "    def forward(self, input):\n",
    "        return self.main(input)"
   ]
  },
  {
   "cell_type": "markdown",
   "metadata": {},
   "source": [
    "## Loading the dataset"
   ]
  },
  {
   "cell_type": "code",
   "execution_count": 7,
   "metadata": {},
   "outputs": [],
   "source": [
    "dataset_transforms = transforms.Compose([\n",
    "    transforms.Grayscale(),\n",
    "    transforms.Resize(image_size),\n",
    "    transforms.CenterCrop(image_size),\n",
    "    transforms.ToTensor(),\n",
    "    transforms.Normalize((0.5,), (0.5,)),\n",
    "])\n",
    "\n",
    "dataset = dset.ImageFolder(root=data_directory, transform=dataset_transforms)\n",
    "dataloader = torch.utils.data.DataLoader(dataset, batch_size=batch_size,\n",
    "                                         shuffle=True, num_workers=n_workers)"
   ]
  },
  {
   "cell_type": "code",
   "execution_count": 8,
   "metadata": {},
   "outputs": [],
   "source": [
    "run_cuda = torch.cuda.is_available() and n_gpus > 0 \n",
    "device   = torch.device(\"cuda:0\" if run_cuda else \"cpu\")"
   ]
  },
  {
   "cell_type": "markdown",
   "metadata": {},
   "source": [
    "Dataset preview"
   ]
  },
  {
   "cell_type": "code",
   "execution_count": 9,
   "metadata": {},
   "outputs": [
    {
     "data": {
      "image/png": "[encoded data removed]",
      "image/svg+xml": "<?xml version=\"1.0\" encoding=\"utf-8\" standalone=\"no\"?>\n<!DOCTYPE svg PUBLIC \"-//W3C//DTD SVG 1.1//EN\"\n  \"http://www.w3.org/Graphics/SVG/1.1/DTD/svg11.dtd\">\n<!-- Created with matplotlib (https://matplotlib.org/) -->\n<svg height=\"86.792087pt\" version=\"1.1\" viewBox=\"0 0 460.8 86.792087\" width=\"460.8pt\" xmlns=\"http://www.w3.org/2000/svg\" xmlns:xlink=\"http://www.w3.org/1999/xlink\">\n <defs>\n  <style type=\"text/css\">\n*{stroke-linecap:butt;stroke-linejoin:round;}\n  </style>\n </defs>\n <g id=\"figure_1\">\n  <g id=\"patch_1\">\n   <path d=\"M 0 86.792087 \nL 460.8 86.792087 \nL 460.8 0 \nL 0 0 \nz\n\" style=\"fill:none;\"/>\n  </g>\n  <g id=\"axes_1\">\n   <g clip-path=\"url(#p6318713b9d)\">\n    <image height=\"58\" id=\"imaged5763edcc6\" transform=\"scale(1 -1)translate(0 -58)\" width=\"447\" x=\"7.2\" xlink:href=\"data:image/png;base64,\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\" y=\"-21.592087\"/>\n   </g>\n   <g id=\"text_1\">\n    <!-- Training Images -->\n    <defs>\n     <path d=\"M -0.296875 72.90625 \nL 61.375 72.90625 \nL 61.375 64.59375 \nL 35.5 64.59375 \nL 35.5 0 \nL 25.59375 0 \nL 25.59375 64.59375 \nL -0.296875 64.59375 \nz\n\" id=\"DejaVuSans-84\"/>\n     <path d=\"M 41.109375 46.296875 \nQ 39.59375 47.171875 37.8125 47.578125 \nQ 36.03125 48 33.890625 48 \nQ 26.265625 48 22.1875 43.046875 \nQ 18.109375 38.09375 18.109375 28.8125 \nL 18.109375 0 \nL 9.078125 0 \nL 9.078125 54.6875 \nL 18.109375 54.6875 \nL 18.109375 46.1875 \nQ 20.953125 51.171875 25.484375 53.578125 \nQ 30.03125 56 36.53125 56 \nQ 37.453125 56 38.578125 55.875 \nQ 39.703125 55.765625 41.0625 55.515625 \nz\n\" id=\"DejaVuSans-114\"/>\n     <path d=\"M 34.28125 27.484375 \nQ 23.390625 27.484375 19.1875 25 \nQ 14.984375 22.515625 14.984375 16.5 \nQ 14.984375 11.71875 18.140625 8.90625 \nQ 21.296875 6.109375 26.703125 6.109375 \nQ 34.1875 6.109375 38.703125 11.40625 \nQ 43.21875 16.703125 43.21875 25.484375 \nL 43.21875 27.484375 \nz\nM 52.203125 31.203125 \nL 52.203125 0 \nL 43.21875 0 \nL 43.21875 8.296875 \nQ 40.140625 3.328125 35.546875 0.953125 \nQ 30.953125 -1.421875 24.3125 -1.421875 \nQ 15.921875 -1.421875 10.953125 3.296875 \nQ 6 8.015625 6 15.921875 \nQ 6 25.140625 12.171875 29.828125 \nQ 18.359375 34.515625 30.609375 34.515625 \nL 43.21875 34.515625 \nL 43.21875 35.40625 \nQ 43.21875 41.609375 39.140625 45 \nQ 35.0625 48.390625 27.6875 48.390625 \nQ 23 48.390625 18.546875 47.265625 \nQ 14.109375 46.140625 10.015625 43.890625 \nL 10.015625 52.203125 \nQ 14.9375 54.109375 19.578125 55.046875 \nQ 24.21875 56 28.609375 56 \nQ 40.484375 56 46.34375 49.84375 \nQ 52.203125 43.703125 52.203125 31.203125 \nz\n\" id=\"DejaVuSans-97\"/>\n     <path d=\"M 9.421875 54.6875 \nL 18.40625 54.6875 \nL 18.40625 0 \nL 9.421875 0 \nz\nM 9.421875 75.984375 \nL 18.40625 75.984375 \nL 18.40625 64.59375 \nL 9.421875 64.59375 \nz\n\" id=\"DejaVuSans-105\"/>\n     <path d=\"M 54.890625 33.015625 \nL 54.890625 0 \nL 45.90625 0 \nL 45.90625 32.71875 \nQ 45.90625 40.484375 42.875 44.328125 \nQ 39.84375 48.1875 33.796875 48.1875 \nQ 26.515625 48.1875 22.3125 43.546875 \nQ 18.109375 38.921875 18.109375 30.90625 \nL 18.109375 0 \nL 9.078125 0 \nL 9.078125 54.6875 \nL 18.109375 54.6875 \nL 18.109375 46.1875 \nQ 21.34375 51.125 25.703125 53.5625 \nQ 30.078125 56 35.796875 56 \nQ 45.21875 56 50.046875 50.171875 \nQ 54.890625 44.34375 54.890625 33.015625 \nz\n\" id=\"DejaVuSans-110\"/>\n     <path d=\"M 45.40625 27.984375 \nQ 45.40625 37.75 41.375 43.109375 \nQ 37.359375 48.484375 30.078125 48.484375 \nQ 22.859375 48.484375 18.828125 43.109375 \nQ 14.796875 37.75 14.796875 27.984375 \nQ 14.796875 18.265625 18.828125 12.890625 \nQ 22.859375 7.515625 30.078125 7.515625 \nQ 37.359375 7.515625 41.375 12.890625 \nQ 45.40625 18.265625 45.40625 27.984375 \nz\nM 54.390625 6.78125 \nQ 54.390625 -7.171875 48.1875 -13.984375 \nQ 42 -20.796875 29.203125 -20.796875 \nQ 24.46875 -20.796875 20.265625 -20.09375 \nQ 16.0625 -19.390625 12.109375 -17.921875 \nL 12.109375 -9.1875 \nQ 16.0625 -11.328125 19.921875 -12.34375 \nQ 23.78125 -13.375 27.78125 -13.375 \nQ 36.625 -13.375 41.015625 -8.765625 \nQ 45.40625 -4.15625 45.40625 5.171875 \nL 45.40625 9.625 \nQ 42.625 4.78125 38.28125 2.390625 \nQ 33.9375 0 27.875 0 \nQ 17.828125 0 11.671875 7.65625 \nQ 5.515625 15.328125 5.515625 27.984375 \nQ 5.515625 40.671875 11.671875 48.328125 \nQ 17.828125 56 27.875 56 \nQ 33.9375 56 38.28125 53.609375 \nQ 42.625 51.21875 45.40625 46.390625 \nL 45.40625 54.6875 \nL 54.390625 54.6875 \nz\n\" id=\"DejaVuSans-103\"/>\n     <path id=\"DejaVuSans-32\"/>\n     <path d=\"M 9.8125 72.90625 \nL 19.671875 72.90625 \nL 19.671875 0 \nL 9.8125 0 \nz\n\" id=\"DejaVuSans-73\"/>\n     <path d=\"M 52 44.1875 \nQ 55.375 50.25 60.0625 53.125 \nQ 64.75 56 71.09375 56 \nQ 79.640625 56 84.28125 50.015625 \nQ 88.921875 44.046875 88.921875 33.015625 \nL 88.921875 0 \nL 79.890625 0 \nL 79.890625 32.71875 \nQ 79.890625 40.578125 77.09375 44.375 \nQ 74.3125 48.1875 68.609375 48.1875 \nQ 61.625 48.1875 57.5625 43.546875 \nQ 53.515625 38.921875 53.515625 30.90625 \nL 53.515625 0 \nL 44.484375 0 \nL 44.484375 32.71875 \nQ 44.484375 40.625 41.703125 44.40625 \nQ 38.921875 48.1875 33.109375 48.1875 \nQ 26.21875 48.1875 22.15625 43.53125 \nQ 18.109375 38.875 18.109375 30.90625 \nL 18.109375 0 \nL 9.078125 0 \nL 9.078125 54.6875 \nL 18.109375 54.6875 \nL 18.109375 46.1875 \nQ 21.1875 51.21875 25.484375 53.609375 \nQ 29.78125 56 35.6875 56 \nQ 41.65625 56 45.828125 52.96875 \nQ 50 49.953125 52 44.1875 \nz\n\" id=\"DejaVuSans-109\"/>\n     <path d=\"M 56.203125 29.59375 \nL 56.203125 25.203125 \nL 14.890625 25.203125 \nQ 15.484375 15.921875 20.484375 11.0625 \nQ 25.484375 6.203125 34.421875 6.203125 \nQ 39.59375 6.203125 44.453125 7.46875 \nQ 49.3125 8.734375 54.109375 11.28125 \nL 54.109375 2.78125 \nQ 49.265625 0.734375 44.1875 -0.34375 \nQ 39.109375 -1.421875 33.890625 -1.421875 \nQ 20.796875 -1.421875 13.15625 6.1875 \nQ 5.515625 13.8125 5.515625 26.8125 \nQ 5.515625 40.234375 12.765625 48.109375 \nQ 20.015625 56 32.328125 56 \nQ 43.359375 56 49.78125 48.890625 \nQ 56.203125 41.796875 56.203125 29.59375 \nz\nM 47.21875 32.234375 \nQ 47.125 39.59375 43.09375 43.984375 \nQ 39.0625 48.390625 32.421875 48.390625 \nQ 24.90625 48.390625 20.390625 44.140625 \nQ 15.875 39.890625 15.1875 32.171875 \nz\n\" id=\"DejaVuSans-101\"/>\n     <path d=\"M 44.28125 53.078125 \nL 44.28125 44.578125 \nQ 40.484375 46.53125 36.375 47.5 \nQ 32.28125 48.484375 27.875 48.484375 \nQ 21.1875 48.484375 17.84375 46.4375 \nQ 14.5 44.390625 14.5 40.28125 \nQ 14.5 37.15625 16.890625 35.375 \nQ 19.28125 33.59375 26.515625 31.984375 \nL 29.59375 31.296875 \nQ 39.15625 29.25 43.1875 25.515625 \nQ 47.21875 21.78125 47.21875 15.09375 \nQ 47.21875 7.46875 41.1875 3.015625 \nQ 35.15625 -1.421875 24.609375 -1.421875 \nQ 20.21875 -1.421875 15.453125 -0.5625 \nQ 10.6875 0.296875 5.421875 2 \nL 5.421875 11.28125 \nQ 10.40625 8.6875 15.234375 7.390625 \nQ 20.0625 6.109375 24.8125 6.109375 \nQ 31.15625 6.109375 34.5625 8.28125 \nQ 37.984375 10.453125 37.984375 14.40625 \nQ 37.984375 18.0625 35.515625 20.015625 \nQ 33.0625 21.96875 24.703125 23.78125 \nL 21.578125 24.515625 \nQ 13.234375 26.265625 9.515625 29.90625 \nQ 5.8125 33.546875 5.8125 39.890625 \nQ 5.8125 47.609375 11.28125 51.796875 \nQ 16.75 56 26.8125 56 \nQ 31.78125 56 36.171875 55.265625 \nQ 40.578125 54.546875 44.28125 53.078125 \nz\n\" id=\"DejaVuSans-115\"/>\n    </defs>\n    <g transform=\"translate(182.904375 16.318125)scale(0.12 -0.12)\">\n     <use xlink:href=\"#DejaVuSans-84\"/>\n     <use x=\"46.333984\" xlink:href=\"#DejaVuSans-114\"/>\n     <use x=\"87.447266\" xlink:href=\"#DejaVuSans-97\"/>\n     <use x=\"148.726562\" xlink:href=\"#DejaVuSans-105\"/>\n     <use x=\"176.509766\" xlink:href=\"#DejaVuSans-110\"/>\n     <use x=\"239.888672\" xlink:href=\"#DejaVuSans-105\"/>\n     <use x=\"267.671875\" xlink:href=\"#DejaVuSans-110\"/>\n     <use x=\"331.050781\" xlink:href=\"#DejaVuSans-103\"/>\n     <use x=\"394.527344\" xlink:href=\"#DejaVuSans-32\"/>\n     <use x=\"426.314453\" xlink:href=\"#DejaVuSans-73\"/>\n     <use x=\"455.806641\" xlink:href=\"#DejaVuSans-109\"/>\n     <use x=\"553.21875\" xlink:href=\"#DejaVuSans-97\"/>\n     <use x=\"614.498047\" xlink:href=\"#DejaVuSans-103\"/>\n     <use x=\"677.974609\" xlink:href=\"#DejaVuSans-101\"/>\n     <use x=\"739.498047\" xlink:href=\"#DejaVuSans-115\"/>\n    </g>\n   </g>\n  </g>\n </g>\n <defs>\n  <clipPath id=\"p6318713b9d\">\n   <rect height=\"57.273962\" width=\"446.4\" x=\"7.2\" y=\"22.318125\"/>\n  </clipPath>\n </defs>\n</svg>\n",
      "text/plain": "<Figure size 576x576 with 1 Axes>"
     },
     "metadata": {
      "needs_background": "light"
     },
     "output_type": "display_data"
    }
   ],
   "source": [
    "real_batch = next(iter(dataloader))\n",
    "plt.figure(figsize=(8,8))\n",
    "plt.axis(\"off\")\n",
    "plt.title(\"Training Images\")\n",
    "plt.imshow(np.transpose(vutils.make_grid(real_batch[0].to(device)[:64], padding=2, normalize=True).cpu(),(1,2,0)))\n",
    "plt.show()"
   ]
  },
  {
   "cell_type": "markdown",
   "metadata": {},
   "source": [
    "Function for weight initialization"
   ]
  },
  {
   "cell_type": "code",
   "execution_count": 10,
   "metadata": {},
   "outputs": [],
   "source": [
    "def weights_init(m):\n",
    "    classname = m.__class__.__name__\n",
    "    if classname.find('Conv') != -1:\n",
    "        nn.init.normal_(m.weight.data, 0.0, 0.02)\n",
    "    elif classname.find('BatchNorm') != -1:\n",
    "        nn.init.normal_(m.weight.data, 1.0, 0.02)\n",
    "        nn.init.constant_(m.bias.data, 0)\n"
   ]
  },
  {
   "cell_type": "code",
   "execution_count": 11,
   "metadata": {},
   "outputs": [],
   "source": [
    "def save_img(image, name):\n",
    "    array = array.detach()\n",
    "    array = array.reshape(28,28)\n",
    "    \n",
    "    plt.imshow(immage, cmap='binary')\n",
    "    plt.xticks([])\n",
    "    plt.yticks([])\n",
    "    plt.savefig('output/' + name)"
   ]
  },
  {
   "cell_type": "markdown",
   "metadata": {},
   "source": [
    "## Generator and discriminator definition and initialization"
   ]
  },
  {
   "cell_type": "code",
   "execution_count": 12,
   "metadata": {},
   "outputs": [
    {
     "data": {
      "text/plain": "Discriminator(\n  (main): Sequential(\n    (0): Conv2d(1, 64, kernel_size=(4, 4), stride=(2, 2), padding=(1, 1), bias=False)\n    (1): LeakyReLU(negative_slope=0.2, inplace=True)\n    (2): Conv2d(64, 128, kernel_size=(4, 4), stride=(2, 2), padding=(1, 1), bias=False)\n    (3): BatchNorm2d(128, eps=1e-05, momentum=0.1, affine=True, track_running_stats=True)\n    (4): LeakyReLU(negative_slope=0.2, inplace=True)\n    (5): Conv2d(128, 256, kernel_size=(4, 4), stride=(2, 2), padding=(1, 1), bias=False)\n    (6): BatchNorm2d(256, eps=1e-05, momentum=0.1, affine=True, track_running_stats=True)\n    (7): LeakyReLU(negative_slope=0.2, inplace=True)\n    (8): Conv2d(256, 512, kernel_size=(4, 4), stride=(2, 2), padding=(1, 1), bias=False)\n    (9): BatchNorm2d(512, eps=1e-05, momentum=0.1, affine=True, track_running_stats=True)\n    (10): LeakyReLU(negative_slope=0.2, inplace=True)\n    (11): Conv2d(512, 1, kernel_size=(4, 4), stride=(1, 1), bias=False)\n    (12): Sigmoid()\n  )\n)"
     },
     "execution_count": 12,
     "metadata": {},
     "output_type": "execute_result"
    }
   ],
   "source": [
    "generator = Generator(n_gpus).to(device)\n",
    "discriminator = Discriminator(n_gpus).to(device)\n",
    "\n",
    "if device.type is 'cuda' and n_gpus > 1:\n",
    "    generator = nn.DataParallel(n_gpus, list(range(n_gpus)))\n",
    "    discriminator = nn.DataParallel(n_gpus, list(range(n_gpus)))\n",
    "\n",
    "generator.apply(weights_init)\n",
    "discriminator.apply(weights_init)"
   ]
  },
  {
   "cell_type": "markdown",
   "metadata": {},
   "source": [
    "## Loss function and optimizer initialization"
   ]
  },
  {
   "cell_type": "code",
   "execution_count": 13,
   "metadata": {},
   "outputs": [],
   "source": [
    "criterion = nn.BCELoss()\n",
    "\n",
    "fixed_noise = torch.randn(batch_size, n_latent, 1, 1, device=device)\n",
    "\n",
    "real_label = 1\n",
    "fake_label = 0\n",
    "\n",
    "d_optimizer = optim.Adam(discriminator.parameters(), lr=learning_r, betas=(beta1, 0.999))\n",
    "g_optimizer = optim.Adam(generator.parameters(), lr=learning_r, betas=(beta1, 0.999))"
   ]
  },
  {
   "cell_type": "markdown",
   "metadata": {},
   "source": [
    "## Training"
   ]
  },
  {
   "cell_type": "code",
   "execution_count": 14,
   "metadata": {},
   "outputs": [],
   "source": [
    "img_progress = []\n",
    "gen_loss, dis_loss = [], []\n",
    "iters = 0"
   ]
  },
  {
   "cell_type": "code",
   "execution_count": 15,
   "metadata": {},
   "outputs": [
    {
     "name": "stdout",
     "output_type": "stream",
     "text": "[1/100][0/1074]\t d_loss: 2.0148\t g_loss: 5.9370\t cuda: True\n[1/100][50/1074]\t d_loss: 0.0478\t g_loss: 16.8057\t cuda: True\n[1/100][100/1074]\t d_loss: 0.0001\t g_loss: 40.0829\t cuda: True\n[1/100][150/1074]\t d_loss: 0.0001\t g_loss: 39.6404\t cuda: True\n[1/100][200/1074]\t d_loss: 0.0001\t g_loss: 39.7151\t cuda: True\n[1/100][250/1074]\t d_loss: 0.0001\t g_loss: 39.9701\t cuda: True\n[1/100][300/1074]\t d_loss: 0.0000\t g_loss: 39.4133\t cuda: True\n"
    },
    {
     "ename": "KeyboardInterrupt",
     "evalue": "",
     "output_type": "error",
     "traceback": [
      "\u001b[0;31m---------------------------------------------------------------------------\u001b[0m",
      "\u001b[0;31mKeyboardInterrupt\u001b[0m                         Traceback (most recent call last)",
      "\u001b[0;32m<ipython-input-15-7706e0103f59>\u001b[0m in \u001b[0;36m<module>\u001b[0;34m\u001b[0m\n\u001b[1;32m     39\u001b[0m         \u001b[0moutput\u001b[0m \u001b[0;34m=\u001b[0m \u001b[0mdiscriminator\u001b[0m\u001b[0;34m(\u001b[0m\u001b[0mfake\u001b[0m\u001b[0;34m)\u001b[0m\u001b[0;34m.\u001b[0m\u001b[0mview\u001b[0m\u001b[0;34m(\u001b[0m\u001b[0;34m-\u001b[0m\u001b[0;36m1\u001b[0m\u001b[0;34m)\u001b[0m\u001b[0;34m\u001b[0m\u001b[0;34m\u001b[0m\u001b[0m\n\u001b[1;32m     40\u001b[0m \u001b[0;34m\u001b[0m\u001b[0m\n\u001b[0;32m---> 41\u001b[0;31m         \u001b[0mg_error\u001b[0m \u001b[0;34m=\u001b[0m \u001b[0mcriterion\u001b[0m\u001b[0;34m(\u001b[0m\u001b[0moutput\u001b[0m\u001b[0;34m,\u001b[0m \u001b[0mlabel\u001b[0m\u001b[0;34m)\u001b[0m\u001b[0;34m\u001b[0m\u001b[0;34m\u001b[0m\u001b[0m\n\u001b[0m\u001b[1;32m     42\u001b[0m         \u001b[0mg_error\u001b[0m\u001b[0;34m.\u001b[0m\u001b[0mbackward\u001b[0m\u001b[0;34m(\u001b[0m\u001b[0mretain_graph\u001b[0m\u001b[0;34m=\u001b[0m\u001b[0;32mTrue\u001b[0m\u001b[0;34m)\u001b[0m\u001b[0;34m\u001b[0m\u001b[0;34m\u001b[0m\u001b[0m\n\u001b[1;32m     43\u001b[0m \u001b[0;34m\u001b[0m\u001b[0m\n",
      "\u001b[0;32m/media/samtitar/Ubuntu Data 2/terrain-generation/venv/lib/python3.6/site-packages/torch/nn/modules/module.py\u001b[0m in \u001b[0;36m__call__\u001b[0;34m(self, *input, **kwargs)\u001b[0m\n\u001b[1;32m    530\u001b[0m             \u001b[0mresult\u001b[0m \u001b[0;34m=\u001b[0m \u001b[0mself\u001b[0m\u001b[0;34m.\u001b[0m\u001b[0m_slow_forward\u001b[0m\u001b[0;34m(\u001b[0m\u001b[0;34m*\u001b[0m\u001b[0minput\u001b[0m\u001b[0;34m,\u001b[0m \u001b[0;34m**\u001b[0m\u001b[0mkwargs\u001b[0m\u001b[0;34m)\u001b[0m\u001b[0;34m\u001b[0m\u001b[0;34m\u001b[0m\u001b[0m\n\u001b[1;32m    531\u001b[0m         \u001b[0;32melse\u001b[0m\u001b[0;34m:\u001b[0m\u001b[0;34m\u001b[0m\u001b[0;34m\u001b[0m\u001b[0m\n\u001b[0;32m--> 532\u001b[0;31m             \u001b[0mresult\u001b[0m \u001b[0;34m=\u001b[0m \u001b[0mself\u001b[0m\u001b[0;34m.\u001b[0m\u001b[0mforward\u001b[0m\u001b[0;34m(\u001b[0m\u001b[0;34m*\u001b[0m\u001b[0minput\u001b[0m\u001b[0;34m,\u001b[0m \u001b[0;34m**\u001b[0m\u001b[0mkwargs\u001b[0m\u001b[0;34m)\u001b[0m\u001b[0;34m\u001b[0m\u001b[0;34m\u001b[0m\u001b[0m\n\u001b[0m\u001b[1;32m    533\u001b[0m         \u001b[0;32mfor\u001b[0m \u001b[0mhook\u001b[0m \u001b[0;32min\u001b[0m \u001b[0mself\u001b[0m\u001b[0;34m.\u001b[0m\u001b[0m_forward_hooks\u001b[0m\u001b[0;34m.\u001b[0m\u001b[0mvalues\u001b[0m\u001b[0;34m(\u001b[0m\u001b[0;34m)\u001b[0m\u001b[0;34m:\u001b[0m\u001b[0;34m\u001b[0m\u001b[0;34m\u001b[0m\u001b[0m\n\u001b[1;32m    534\u001b[0m             \u001b[0mhook_result\u001b[0m \u001b[0;34m=\u001b[0m \u001b[0mhook\u001b[0m\u001b[0;34m(\u001b[0m\u001b[0mself\u001b[0m\u001b[0;34m,\u001b[0m \u001b[0minput\u001b[0m\u001b[0;34m,\u001b[0m \u001b[0mresult\u001b[0m\u001b[0;34m)\u001b[0m\u001b[0;34m\u001b[0m\u001b[0;34m\u001b[0m\u001b[0m\n",
      "\u001b[0;32m/media/samtitar/Ubuntu Data 2/terrain-generation/venv/lib/python3.6/site-packages/torch/nn/modules/loss.py\u001b[0m in \u001b[0;36mforward\u001b[0;34m(self, input, target)\u001b[0m\n\u001b[1;32m    496\u001b[0m \u001b[0;34m\u001b[0m\u001b[0m\n\u001b[1;32m    497\u001b[0m     \u001b[0;32mdef\u001b[0m \u001b[0mforward\u001b[0m\u001b[0;34m(\u001b[0m\u001b[0mself\u001b[0m\u001b[0;34m,\u001b[0m \u001b[0minput\u001b[0m\u001b[0;34m,\u001b[0m \u001b[0mtarget\u001b[0m\u001b[0;34m)\u001b[0m\u001b[0;34m:\u001b[0m\u001b[0;34m\u001b[0m\u001b[0;34m\u001b[0m\u001b[0m\n\u001b[0;32m--> 498\u001b[0;31m         \u001b[0;32mreturn\u001b[0m \u001b[0mF\u001b[0m\u001b[0;34m.\u001b[0m\u001b[0mbinary_cross_entropy\u001b[0m\u001b[0;34m(\u001b[0m\u001b[0minput\u001b[0m\u001b[0;34m,\u001b[0m \u001b[0mtarget\u001b[0m\u001b[0;34m,\u001b[0m \u001b[0mweight\u001b[0m\u001b[0;34m=\u001b[0m\u001b[0mself\u001b[0m\u001b[0;34m.\u001b[0m\u001b[0mweight\u001b[0m\u001b[0;34m,\u001b[0m \u001b[0mreduction\u001b[0m\u001b[0;34m=\u001b[0m\u001b[0mself\u001b[0m\u001b[0;34m.\u001b[0m\u001b[0mreduction\u001b[0m\u001b[0;34m)\u001b[0m\u001b[0;34m\u001b[0m\u001b[0;34m\u001b[0m\u001b[0m\n\u001b[0m\u001b[1;32m    499\u001b[0m \u001b[0;34m\u001b[0m\u001b[0m\n\u001b[1;32m    500\u001b[0m \u001b[0;34m\u001b[0m\u001b[0m\n",
      "\u001b[0;32m/media/samtitar/Ubuntu Data 2/terrain-generation/venv/lib/python3.6/site-packages/torch/nn/functional.py\u001b[0m in \u001b[0;36mbinary_cross_entropy\u001b[0;34m(input, target, weight, size_average, reduce, reduction)\u001b[0m\n\u001b[1;32m   2075\u001b[0m \u001b[0;34m\u001b[0m\u001b[0m\n\u001b[1;32m   2076\u001b[0m     return torch._C._nn.binary_cross_entropy(\n\u001b[0;32m-> 2077\u001b[0;31m         input, target, weight, reduction_enum)\n\u001b[0m\u001b[1;32m   2078\u001b[0m \u001b[0;34m\u001b[0m\u001b[0m\n\u001b[1;32m   2079\u001b[0m \u001b[0;34m\u001b[0m\u001b[0m\n",
      "\u001b[0;31mKeyboardInterrupt\u001b[0m: "
     ]
    }
   ],
   "source": [
    "# Start training\n",
    "for epoch in range(n_epochs):\n",
    "    # requests.get('http://localhost:5000/gan/vars/epochs/{}%2F{}'.format(epoch, n_epochs))\n",
    "\n",
    "    for i, data in enumerate(dataloader, 0):\n",
    "        # Train discriminator\n",
    "        discriminator.zero_grad()\n",
    "\n",
    "        real_cpu = data[0].to(device)\n",
    "        b_size = real_cpu.size(0)\n",
    "\n",
    "        # Train discriminator with real batch\n",
    "        label = torch.full((b_size,), real_label, device=device)\n",
    "\n",
    "        output = discriminator(real_cpu).view(-1)\n",
    "\n",
    "        d_error_r = criterion(output, label)\n",
    "        d_error_r.backward(retain_graph=True)\n",
    "\n",
    "        # Train discriminator with fake batch\n",
    "        noise = torch.randn(b_size, n_latent, 1, 1, device=device)\n",
    "\n",
    "        fake = generator(noise)\n",
    "        label.fill_(fake_label)\n",
    "\n",
    "        output = discriminator(fake.detach())\n",
    "\n",
    "        d_error_f = criterion(output, label)\n",
    "        d_error_f.backward(retain_graph=True)\n",
    "\n",
    "        # Step discriminator\n",
    "        d_error = d_error_r + d_error_f\n",
    "        d_optimizer.step()\n",
    "\n",
    "        # Train generator\n",
    "        generator.zero_grad()\n",
    "        label.fill_(real_label)\n",
    "\n",
    "        output = discriminator(fake).view(-1)\n",
    "\n",
    "        g_error = criterion(output, label)\n",
    "        g_error.backward(retain_graph=True)\n",
    "\n",
    "        g_optimizer.step()\n",
    "\n",
    "        if i % 50 is 0:\n",
    "            # requests.get('http://localhost:5000/gan/vars/iterations/{}%2F{}'.format(i, len(dataloader)))\n",
    "            # requests.get('http://localhost:5000/gan/vars/gen_loss/{}'.format(g_error.item()))\n",
    "            # requests.get('http://localhost:5000/gan/vars/dis_loss/{}'.format(d_error.item()))\n",
    "\n",
    "            print('[%d/%d][%d/%d]\\t d_loss: %.4f\\t g_loss: %.4f\\t cuda: %s' %\n",
    "                (epoch + 1, n_epochs, i, len(dataloader), d_error.item(), g_error.item(), run_cuda))\n",
    "        \n",
    "        gen_loss.append(g_error.item())\n",
    "        dis_loss.append(d_error.item())\n",
    "\n",
    "        # Check how the generator is doing by saving G's output on fixed_noise\n",
    "        if iters % 1000 is 0 or (epoch is n_epochs - 1 and i == len(dataloader) - 1):\n",
    "            torch.save(generator, 'saved_models/generator_{}.pt'.format(iters))\n",
    "            torch.save(generator, 'saved_models/generator_latest.pt')\n",
    "\n",
    "            torch.save(discriminator, 'saved_models/discriminator_{}.pt'.format(iters))\n",
    "            torch.save(discriminator, 'saved_models/discriminator_latest.pt')\n",
    "\n",
    "            with torch.no_grad():\n",
    "                fake = generator(fixed_noise).detach().cpu()\n",
    "            img_progress.append(vutils.make_grid(fake, padding=2, normalize=True))\n",
    "            plt.imsave('output/terrain_{}.png'.format(iters), img_progress[-1][0])\n",
    "            plt.imsave('output/terrain_gray_{}.png'.format(iters), img_progress[-1][0], cmap='Greys')\n",
    "\n",
    "        iters += 1"
   ]
  },
  {
   "cell_type": "code",
   "execution_count": null,
   "metadata": {},
   "outputs": [],
   "source": [
    "plt.figure(figsize=(10,5))\n",
    "plt.title(\"Generator and Discriminator Loss During Training\")\n",
    "plt.plot(gen_loss,label=\"G\")\n",
    "plt.plot(dis_loss,label=\"D\")\n",
    "plt.xlabel(\"iterations\")\n",
    "plt.ylabel(\"Loss\")\n",
    "plt.legend()\n",
    "plt.show()"
   ]
  },
  {
   "cell_type": "code",
   "execution_count": null,
   "metadata": {},
   "outputs": [],
   "source": [
    "fig = plt.figure(figsize=(8,8))\n",
    "plt.axis(\"off\")\n",
    "images = [[plt.imshow(np.transpose(i, (1, 2, 0)), animated=True)] for i in img_progress]\n",
    "anim = animation.ArtistAnimation(fig, images, interval=1000, repeat_delay=1000, blit=True)\n",
    "\n",
    "HTML(anim.to_jshtml())"
   ]
  },
  {
   "cell_type": "markdown",
   "metadata": {},
   "source": [
    "# Generate!"
   ]
  },
  {
   "cell_type": "code",
   "execution_count": null,
   "metadata": {},
   "outputs": [],
   "source": [
    "latent = torch.randn(1, n_latent, 1, 1, device=device)\n",
    "\n",
    "with torch.no_grad():\n",
    "    fake = generator(latent).cpu()\n",
    "plt.imshow(vutils.make_grid(fake, padding=2, normalize=True)[0])"
   ]
  }
 ]
}